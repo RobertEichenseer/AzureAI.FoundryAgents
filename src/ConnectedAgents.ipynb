{
 "cells": [
  {
   "cell_type": "markdown",
   "id": "dd213349",
   "metadata": {},
   "source": [
    "# Azure AI Foundry - Connected Agents\n",
    "\n",
    "This notebook demonstrates how to create and orchestrate **3 connected agents** using Azure AI Foundry:\n",
    "\n",
    "![](../media/img/ConnectedAgents.png)\n",
    "\n",
    "1. **Orchestrator Agent** - Coordinates the other two agents to answer queries about sport events. \n",
    "2. **Sport Event Winner Agent** - Provides information about sport event winners\n",
    "3. **Sport Event Results Agent** - Provides information about sport event results  \n",
    "\n",
    "The orchestrator agent doesn't answer questions directly but instead connects to the specialized agents to gather information, showcasing the power of agent orchestration in Azure AI Foundry.\n",
    "\n",
    "The **Sport Event Winner Agent** and **Sport Event Results Agent** just simulate retrieving scores and winners. Please add your functionality within the agent definition (Prompting, Tools, MCP ...)\n",
    "\n",
    "\n",
    "## Step 1 - Load Environment\n",
    "\n",
    "Two communicate with the Azure AI Foundry Agent Service two parameters are loaded from a configuration file. \n",
    "\n",
    "- foundryEndpoint: Endpoint of a created AI Foundry Project. \n",
    "- foundryModel: Deployed LLM model\n",
    "\n",
    "The Foundry Project can be created using by deploying the [BICEP file 'setup.bicep'](../setup/setup.bicep) using the [../setup/setup.azcli - Azure CLI script](../setup/setup.azcli). Necessary parameter can be provided in the [../setup/parameters.json](../setup/parameters.json).\n",
    "\n",
    "\n",
    "\n",
    "\n"
   ]
  },
  {
   "cell_type": "code",
   "execution_count": 12,
   "id": "d14fc63b",
   "metadata": {
    "polyglot_notebook": {
     "kernelName": "csharp"
    }
   },
   "outputs": [
    {
     "data": {
      "text/html": [
       "<div><div></div><div></div><div><strong>Installed Packages</strong><ul><li><span>Azure.AI.Agents.Persistent, 1.0.0</span></li><li><span>Azure.Identity, 1.14.1</span></li><li><span>DotNetEnv, 3.1.1</span></li></ul></div></div>"
      ]
     },
     "metadata": {},
     "output_type": "display_data"
    },
    {
     "name": "stdout",
     "output_type": "stream",
     "text": [
      "Configuration loaded... \r\n"
     ]
    }
   ],
   "source": [
    "#r \"nuget: DotNetEnv, 3.1.1\"\n",
    "#r \"nuget: Azure.AI.Agents.Persistent, 1.0.0\"\n",
    "#r \"nuget: Azure.Identity, 1.14.1\"\n",
    "\n",
    "using DotNetEnv;\n",
    "\n",
    "string configurationFile = @\"../config/config.env\";\n",
    "Env.Load(configurationFile);\n",
    "\n",
    "string foundryEndpoint = Environment.GetEnvironmentVariable(\"SDK_FOUNDRY_ENDPOINT\") ?? \"Foundry endpoint not found\";\n",
    "string foundryModelDeployment = Environment.GetEnvironmentVariable(\"SDK_FOUNDRY_DEPLOYMENTNAME\") ?? \"Foundry model deployment not found\";\n",
    "\n",
    "Console.WriteLine(\"Configuration loaded... \");\n",
    "\n"
   ]
  },
  {
   "cell_type": "markdown",
   "id": "8cba0114",
   "metadata": {},
   "source": [
    "## Step 2 - Create PersistentAgentsClient\n",
    "\n",
    "To authenticate against the Azure AI Foundry Agents Service \n",
    "- Azure CLI credentials or\n",
    "- Visual Studio credentials\n",
    "can be used.\n",
    "\n",
    "Ensure that you're logged into Azure using e.g. the Azure CLI by executing `az login`\n",
    "\n"
   ]
  },
  {
   "cell_type": "code",
   "execution_count": 13,
   "id": "ad9ace21",
   "metadata": {
    "polyglot_notebook": {
     "kernelName": "csharp"
    }
   },
   "outputs": [
    {
     "name": "stdout",
     "output_type": "stream",
     "text": [
      "PersistentAgentsClient created ...\r\n"
     ]
    }
   ],
   "source": [
    "using Azure.Identity;\n",
    "using Azure.AI.Agents.Persistent;\n",
    "\n",
    "// Ensure that az login has been executed in the terminal\n",
    "DefaultAzureCredentialOptions defaultAzureCredentialOptions = new DefaultAzureCredentialOptions\n",
    "{\n",
    "    ExcludeInteractiveBrowserCredential = true,\n",
    "    ExcludeVisualStudioCredential = false,\n",
    "    ExcludeEnvironmentCredential = true,\n",
    "    ExcludeManagedIdentityCredential = true,\n",
    "    ExcludeAzureCliCredential = false\n",
    "};\n",
    "DefaultAzureCredential defaultAzureCredential = new DefaultAzureCredential(defaultAzureCredentialOptions);\n",
    "\n",
    "PersistentAgentsClient persistedAgentsClient = new PersistentAgentsClient(foundryEndpoint, defaultAzureCredential);\n",
    "\n",
    "\n",
    "Console.WriteLine($\"PersistentAgentsClient created ...\");"
   ]
  },
  {
   "cell_type": "markdown",
   "id": "34536421",
   "metadata": {},
   "source": [
    "## Step 3 - Define Agents\n",
    "\n",
    "Three agents are defined: \n",
    "\n",
    "![](../media/img/ConnectedAgentsDetails.png)\n",
    "\n",
    "where the `GetSportNewsOrchestrator` agent employes the connected agents `GetSportEventWinner` and `GetSportEventResults` to provide results. \n",
    "\n",
    "The `GetSportEventWinner` and `GetSportEventResults` angent simulate functionality to provide winner or results and will always provide the same results."
   ]
  },
  {
   "cell_type": "code",
   "execution_count": 14,
   "id": "c1b2d5bd",
   "metadata": {
    "polyglot_notebook": {
     "kernelName": "csharp"
    }
   },
   "outputs": [
    {
     "name": "stdout",
     "output_type": "stream",
     "text": [
      "Orchestrator agent: GetSportNewsOrchestrator with ID asst_JVrexHMrAGUgrLTYQXEKone2\n",
      "\tconnected agent: GetSportEventResults with ID asst_qQlICDrSw2uuYLiMBvpJ3qhZ\n",
      "\tconnected agent: GetSportEventResults with ID asst_qQlICDrSw2uuYLiMBvpJ3qhZ\n",
      "created ...\n"
     ]
    }
   ],
   "source": [
    "// Sport event winner agent\n",
    "string systemMessage = @\"\n",
    "    You provide information about sport Event winners.\n",
    "    You take the sport event and year as input.\n",
    "    You provide always the same team name as response.\n",
    "    The winner of the sport event you're asked is always 'Flying Munich Dolphins\n",
    "\";\n",
    "\n",
    "PersistentAgent sportEventWinnerAgent = await persistedAgentsClient.Administration.CreateAgentAsync(\n",
    "    model: foundryModelDeployment,\n",
    "    name: \"GetSportEventWinner\",\n",
    "    instructions: systemMessage,\n",
    "    tools: [\n",
    "    ]\n",
    ");\n",
    "ConnectedAgentToolDefinition connectedAgentSportEventWinner = new ConnectedAgentToolDefinition(\n",
    "    new ConnectedAgentDetails(\n",
    "        sportEventWinnerAgent.Id,\n",
    "        sportEventWinnerAgent.Name,\n",
    "        \"Gets the winner of a sport event\"\n",
    "    )\n",
    ");\n",
    "\n",
    "// Sport event results agent\n",
    "systemMessage = @\"\n",
    "    You provide information about sport Event results.\n",
    "    You take the sport event and year as input.\n",
    "    You pvoide always the same results.\n",
    "    The results of the sport event you're asked is always '35:10\n",
    "\";\n",
    "PersistentAgent sportEventResultsAgent = await persistedAgentsClient.Administration.CreateAgentAsync(\n",
    "    model: foundryModelDeployment,\n",
    "    name: \"GetSportEventResults\",\n",
    "    instructions: systemMessage,\n",
    "    tools: [\n",
    "    ]\n",
    ");\n",
    "ConnectedAgentToolDefinition connectedAgentSportEventResult = new ConnectedAgentToolDefinition(\n",
    "    new ConnectedAgentDetails(\n",
    "        sportEventResultsAgent.Id,\n",
    "        sportEventResultsAgent.Name,\n",
    "        \"Gets the results of a sport event\"\n",
    "    )\n",
    ");\n",
    "\n",
    "systemMessage = @\"\n",
    "    You orchestrate connected agents.\n",
    "    You don't answer questions directly, but you connect to other agents to get the answers.\n",
    "    You can connect to the 'GetSportEventWinner' agent to get information about winners of sport events.\n",
    "    You can connect to the 'GetSportEventResults' agent to get information about results of sport events.\n",
    "    Don't use your internal knowledge to answer questions.\n",
    "\";\n",
    "\n",
    "//Orchestrator agent\n",
    "PersistentAgent orchestratorAgent = await persistedAgentsClient.Administration.CreateAgentAsync(\n",
    "    model: foundryModelDeployment,\n",
    "    name: \"GetSportNewsOrchestrator\",\n",
    "    instructions: systemMessage,\n",
    "    tools: [\n",
    "        connectedAgentSportEventWinner,\n",
    "        connectedAgentSportEventResult\n",
    "    ]\n",
    ");\n",
    "\n",
    "Console.WriteLine($\"Orchestrator agent: {orchestratorAgent.Name} with ID {orchestratorAgent.Id}\");\n",
    "Console.WriteLine($\"\\tconnected agent: {sportEventResultsAgent.Name} with ID {sportEventResultsAgent.Id}\");\n",
    "Console.WriteLine($\"\\tconnected agent: {sportEventResultsAgent.Name} with ID {sportEventResultsAgent.Id}\");\n",
    "Console.WriteLine($\"created ...\");"
   ]
  },
  {
   "cell_type": "markdown",
   "id": "77c83a5d",
   "metadata": {},
   "source": [
    "## Step 4 - Create and Run Thread\n",
    "\n",
    "A `PersistentAgentThread` is created with the ***Who won the Super Sports Championship 2025 and what was the result?*** initial user message.\n",
    "\n",
    "A `ThreadRun' object is created connectiong the created Thread with the orchestrator agent."
   ]
  },
  {
   "cell_type": "code",
   "execution_count": 15,
   "id": "dcad2fcf",
   "metadata": {
    "polyglot_notebook": {
     "kernelName": "csharp"
    }
   },
   "outputs": [
    {
     "name": "stdout",
     "output_type": "stream",
     "text": [
      "Thread run run_5O5tr7hRlZ4r0rP1gWp55FSv completed ...\r\n"
     ]
    }
   ],
   "source": [
    "PersistentAgentThread persistentAgentThread = await persistedAgentsClient.Threads.CreateThreadAsync();\n",
    "\n",
    "// Create message to thread\n",
    "PersistentThreadMessage message = await persistedAgentsClient.Messages.CreateMessageAsync(\n",
    "    persistentAgentThread.Id,\n",
    "    MessageRole.User,\n",
    "    \"Who won the Super Sports Championship 2025 and what was the result?\");\n",
    "\n",
    "// Run the agent\n",
    "ThreadRun threadRun = await persistedAgentsClient.Runs.CreateRunAsync(persistentAgentThread, orchestratorAgent);\n",
    "\n",
    "do\n",
    "{\n",
    "    await Task.Delay(500);\n",
    "    threadRun = persistedAgentsClient.Runs.GetRun(persistentAgentThread.Id, threadRun.Id);\n",
    "}\n",
    "\n",
    "while (threadRun.Status == RunStatus.Queued\n",
    "    || threadRun.Status == RunStatus.InProgress\n",
    "    || threadRun.Status == RunStatus.RequiresAction);\n",
    "\n",
    "Console.WriteLine($\"Thread run {threadRun.Id} completed ...\");"
   ]
  },
  {
   "cell_type": "markdown",
   "id": "8d807a80",
   "metadata": {},
   "source": [
    "## Step 5 - Retrieve Thread Messages\n",
    "\n",
    "After finishing `ThreadRun` all thread messages are retrieved and shown."
   ]
  },
  {
   "cell_type": "code",
   "execution_count": 16,
   "id": "5e36d77a",
   "metadata": {
    "language_info": {
     "name": "polyglot-notebook"
    },
    "polyglot_notebook": {
     "kernelName": "csharp"
    }
   },
   "outputs": [
    {
     "name": "stdout",
     "output_type": "stream",
     "text": [
      "Messages in thread thread_mahZawsJtVJTJnkPXDoYSeUK ...\n",
      "\tRole: 'user': Who won the Super Sports Championship 2025 and what was the result?\n"
     ]
    }
   ],
   "source": [
    "using Azure; \n",
    "\n",
    "Pageable<PersistentThreadMessage> messages = persistedAgentsClient.Messages.GetMessages(\n",
    "    threadId: persistentAgentThread.Id,\n",
    "    order: ListSortOrder.Ascending\n",
    ");\n",
    "\n",
    "Console.WriteLine($\"Messages in thread {persistentAgentThread.Id} ...\");\n",
    "foreach (PersistentThreadMessage threadMessage in messages)\n",
    "{\n",
    "    foreach (MessageContent contentItem in threadMessage.ContentItems)\n",
    "    {\n",
    "        if (contentItem is MessageTextContent textItem)\n",
    "        {\n",
    "            Console.WriteLine($\"\\tRole: '{threadMessage.Role}': {textItem.Text}\");\n",
    "        }\n",
    "    }\n",
    "}\n"
   ]
  },
  {
   "cell_type": "markdown",
   "id": "da8ac5a5",
   "metadata": {},
   "source": [
    "## Step 6 - Housekeeping\n",
    "\n",
    "Created agents and threads are deleted."
   ]
  },
  {
   "cell_type": "code",
   "execution_count": 17,
   "id": "14138527",
   "metadata": {
    "language_info": {
     "name": "polyglot-notebook"
    },
    "polyglot_notebook": {
     "kernelName": "csharp"
    }
   },
   "outputs": [
    {
     "name": "stdout",
     "output_type": "stream",
     "text": [
      "Agents and thread deleted ...\r\n"
     ]
    }
   ],
   "source": [
    "persistedAgentsClient.Threads.DeleteThread(threadId: persistentAgentThread.Id);\n",
    "persistedAgentsClient.Administration.DeleteAgent(agentId: orchestratorAgent.Id);\n",
    "persistedAgentsClient.Administration.DeleteAgent(agentId: sportEventWinnerAgent.Id);\n",
    "persistedAgentsClient.Administration.DeleteAgent(agentId: sportEventResultsAgent.Id);\n",
    "\n",
    "Console.WriteLine(\"Agents and thread deleted ...\");"
   ]
  }
 ],
 "metadata": {
  "kernelspec": {
   "display_name": ".NET (C#)",
   "language": "C#",
   "name": ".net-csharp"
  },
  "language_info": {
   "name": "polyglot-notebook"
  },
  "polyglot_notebook": {
   "kernelInfo": {
    "defaultKernelName": "csharp",
    "items": [
     {
      "aliases": [],
      "name": "csharp"
     }
    ]
   }
  }
 },
 "nbformat": 4,
 "nbformat_minor": 5
}
