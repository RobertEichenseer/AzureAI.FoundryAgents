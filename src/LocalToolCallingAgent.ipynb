{
 "cells": [
  {
   "cell_type": "markdown",
   "id": "dd213349",
   "metadata": {},
   "source": [
    "# Azure AI Foundry - Local Tool / Function Calling\n",
    "\n",
    "This notebook demonstrates how to create an agent which is using local function calling (or tool calling) to provide completion.\n",
    "![](../media/img/FunctionCalling.png)\n",
    "\n",
    "Two local functions:\n",
    "\n",
    "- GetSportEventWinner()\n",
    "- GetSportEventResults()\n",
    "\n",
    "are defined and provided to the agent as tools where execution can be requested. \n",
    "\n",
    "## Step 1 - Load Environment\n",
    "\n",
    "Two communicate with the Azure AI Foundry Agent Service two parameters are loaded from a configuration file. \n",
    "\n",
    "- foundryEndpoint: Endpoint of a created AI Foundry Project. \n",
    "- foundryModel: Deployed LLM model\n",
    "\n",
    "The Foundry Project can be created using by deploying the [BICEP file 'setup.bicep'](../setup/setup.bicep) using the [../setup/setup.azcli - Azure CLI script](../setup/setup.azcli). Necessary parameter can be provided in the [../setup/parameters.json](../setup/parameters.json).\n",
    "\n",
    "\n"
   ]
  },
  {
   "cell_type": "code",
   "execution_count": null,
   "id": "d14fc63b",
   "metadata": {
    "polyglot_notebook": {
     "kernelName": "csharp"
    }
   },
   "outputs": [
    {
     "data": {
      "text/html": [
       "<div><div></div><div></div><div><strong>Installed Packages</strong><ul><li><span>Azure.AI.Agents.Persistent, 1.0.0</span></li><li><span>Azure.Identity, 1.14.1</span></li><li><span>DotNetEnv, 3.1.1</span></li></ul></div></div>"
      ]
     },
     "metadata": {},
     "output_type": "display_data"
    },
    {
     "name": "stdout",
     "output_type": "stream",
     "text": [
      "Configuration loaded: \r\n"
     ]
    }
   ],
   "source": [
    "#r \"nuget: DotNetEnv, 3.1.1\"\n",
    "#r \"nuget: Azure.AI.Agents.Persistent, 1.0.0\"\n",
    "#r \"nuget: Azure.Identity, 1.14.1\"\n",
    "\n",
    "using DotNetEnv;\n",
    "\n",
    "string configurationFile = @\"../config/config.env\";\n",
    "Env.Load(configurationFile);\n",
    "\n",
    "string foundryEndpoint = Environment.GetEnvironmentVariable(\"SDK_FOUNDRY_ENDPOINT\") ?? \"Foundry endpoint not found\";\n",
    "string foundryModelDeployment = Environment.GetEnvironmentVariable(\"SDK_FOUNDRY_DEPLOYMENTNAME\") ?? \"Foundry model deployment not found\";\n",
    "\n",
    "Console.WriteLine(\"Configuration loaded: \");\n"
   ]
  },
  {
   "cell_type": "markdown",
   "id": "8cba0114",
   "metadata": {},
   "source": [
    "## Step 2 - Create PersistentAgentsClient\n",
    "\n",
    "To authenticate against the Azure AI Foundry Agents Service \n",
    "- Azure CLI credentials or\n",
    "- Visual Studio credentials\n",
    "can be used.\n",
    "\n",
    "Ensure that you're logged into Azure using e.g. the Azure CLI by executing `az login`"
   ]
  },
  {
   "cell_type": "code",
   "execution_count": 4,
   "id": "ad9ace21",
   "metadata": {
    "polyglot_notebook": {
     "kernelName": "csharp"
    }
   },
   "outputs": [
    {
     "name": "stdout",
     "output_type": "stream",
     "text": [
      "PersistentAgentsClient crated ...\r\n"
     ]
    }
   ],
   "source": [
    "using Azure.Identity;\n",
    "using Azure.AI.Agents.Persistent;\n",
    "\n",
    "// Ensure that az login has been executed in the terminal\n",
    "DefaultAzureCredentialOptions defaultAzureCredentialOptions = new DefaultAzureCredentialOptions\n",
    "{\n",
    "    ExcludeInteractiveBrowserCredential = true,\n",
    "    ExcludeVisualStudioCredential = false,\n",
    "    ExcludeEnvironmentCredential = true,\n",
    "    ExcludeManagedIdentityCredential = true,\n",
    "    ExcludeAzureCliCredential = false\n",
    "};\n",
    "DefaultAzureCredential defaultAzureCredential = new DefaultAzureCredential(defaultAzureCredentialOptions);\n",
    "\n",
    "PersistentAgentsClient persistedAgentsClient = new PersistentAgentsClient(foundryEndpoint, defaultAzureCredential);\n",
    "\n",
    "\n",
    "Console.WriteLine($\"PersistentAgentsClient crated ...\");"
   ]
  },
  {
   "cell_type": "markdown",
   "id": "34536421",
   "metadata": {},
   "source": [
    "## Step 3 - Define local functions\n",
    "\n",
    "The functions `GetSportEventWinner` and `GetSportEventResults` in combination with responding method and parameter signatures are defined.\n",
    "\n",
    "Both functions simulate local functionality to retrieve results from e.g. protected databases."
   ]
  },
  {
   "cell_type": "code",
   "execution_count": 5,
   "metadata": {
    "polyglot_notebook": {
     "kernelName": "csharp"
    }
   },
   "outputs": [
    {
     "name": "stdout",
     "output_type": "stream",
     "text": [
      "Local functions/tools with definition created ...\r\n"
     ]
    }
   ],
   "source": [
    "using System.Text.Json;\n",
    "\n",
    "async Task<string> GetSportEventWinner(string sportEvent, string sportEventYear) => await Task.FromResult(\"Flying Munich Dolphins\");\n",
    "async Task<string> GetSportEventResults(string sportEvent, string sportEventYear) => await Task.FromResult($\"Results for {sportEvent} in {sportEventYear}: 35:10\");\n",
    "\n",
    "FunctionToolDefinition getSportEventWinnerTool = new(\n",
    "    name: \"getSportEventWinner\",\n",
    "    description: \"Gets the winner of a sport event.\",\n",
    "    parameters: BinaryData.FromObjectAsJson(\n",
    "        new\n",
    "        {\n",
    "            Type = \"object\",\n",
    "            Properties = new\n",
    "            {\n",
    "                SportEvent = new\n",
    "                {\n",
    "                    Type = \"string\",\n",
    "                    Description = \"The name of the sport event, e.g. 'Super Sport Event'.\",\n",
    "                },\n",
    "                SportEventYear = new\n",
    "                {\n",
    "                    Type = \"string\",\n",
    "                    Description = \"The year of the sport event, e.g. '2025'.\",\n",
    "                },\n",
    "            },\n",
    "            Required = new[] { \"sportEvent\", \"sportEventYear\" },\n",
    "        },\n",
    "        new JsonSerializerOptions() { PropertyNamingPolicy = JsonNamingPolicy.CamelCase })\n",
    ");\n",
    "\n",
    "FunctionToolDefinition getSportEventResultsTool = new(\n",
    "    name: \"getSportEventResults\",\n",
    "    description: \"Gets the results of a sport event.\",\n",
    "    parameters: BinaryData.FromObjectAsJson(\n",
    "        new\n",
    "        {\n",
    "            Type = \"object\",\n",
    "            Properties = new\n",
    "            {\n",
    "                SportEvent = new\n",
    "                {\n",
    "                    Type = \"string\",\n",
    "                    Description = \"The name of the sport event, e.g. 'Super Sport Event'.\",\n",
    "                },\n",
    "                SportEventYear = new\n",
    "                {\n",
    "                    Type = \"string\",\n",
    "                    Description = \"The year of the sport event, e.g. '2025'.\",\n",
    "                },\n",
    "            },\n",
    "            Required = new[] { \"sportEvent\", \"sportEventYear\" },\n",
    "        },\n",
    "        new JsonSerializerOptions() { PropertyNamingPolicy = JsonNamingPolicy.CamelCase })\n",
    ");\n",
    "\n",
    "Console.WriteLine(\"Local functions/tools with definition created ...\");\n"
   ]
  },
  {
   "cell_type": "markdown",
   "id": "77c83a5d",
   "metadata": {},
   "source": [
    "## Step 4 - Helper Function\n",
    "\n",
    "The helper function `CallInternalFunction` supports calling local functions whenever the LLM requests executing them (pls. use Reflection for production grade solutions)."
   ]
  },
  {
   "cell_type": "code",
   "execution_count": 6,
   "metadata": {
    "polyglot_notebook": {
     "kernelName": "csharp"
    }
   },
   "outputs": [
    {
     "name": "stdout",
     "output_type": "stream",
     "text": [
      "Internal function call handler created ...\r\n"
     ]
    }
   ],
   "source": [
    "async Task<ToolOutput?> CallInternalFunction(RequiredToolCall toolCall)\n",
    "{\n",
    "    \n",
    "    string toolCallResult = \"\"; \n",
    "    if (toolCall is RequiredFunctionToolCall functionToolCall)\n",
    "    {\n",
    "        using JsonDocument argumentsJson = JsonDocument.Parse(functionToolCall.Arguments);\n",
    "        Console.WriteLine($\"Function {functionToolCall.Name}\");\n",
    "\n",
    "        switch (functionToolCall.Name)\n",
    "        {\n",
    "            case \"getSportEventWinner\":\n",
    "                string sportEvent = argumentsJson.RootElement.GetProperty(\"sportEvent\").GetString() ?? string.Empty;\n",
    "                string sportEventYear = argumentsJson.RootElement.GetProperty(\"sportEventYear\").GetString() ?? string.Empty;\n",
    "                toolCallResult = await GetSportEventWinner(sportEvent, sportEventYear);\n",
    "                break;\n",
    "            case \"getSportEventResults\":\n",
    "                sportEvent = argumentsJson.RootElement.GetProperty(\"sportEvent\").GetString() ?? string.Empty;\n",
    "                sportEventYear = argumentsJson.RootElement.GetProperty(\"sportEventYear\").GetString() ?? string.Empty;\n",
    "                toolCallResult = await GetSportEventResults(sportEvent, sportEventYear);\n",
    "                break;\n",
    "            default:\n",
    "                Console.WriteLine($\"Function {functionToolCall.Name} is not implemented.\");\n",
    "                toolCallResult = \"\";\n",
    "                break;\n",
    "        }\n",
    "    }\n",
    "    return new ToolOutput(toolCall.Id, toolCallResult);\n",
    "}\n",
    "\n",
    "Console.WriteLine(\"Internal function call handler created ...\");"
   ]
  },
  {
   "cell_type": "markdown",
   "id": "8d807a80",
   "metadata": {},
   "source": [
    "## Step 5 - Define Agent\n",
    "\n",
    "An agent is defined with instruction to use proviced tools to fulfill it's tasks. The definition for: \n",
    "\n",
    "- getSportEventWinnerTool and\n",
    "- getSportEventResultsTool\n",
    "\n",
    "are provided to the agent"
   ]
  },
  {
   "cell_type": "code",
   "execution_count": 7,
   "metadata": {
    "language_info": {
     "name": "polyglot-notebook"
    },
    "polyglot_notebook": {
     "kernelName": "csharp"
    }
   },
   "outputs": [
    {
     "name": "stdout",
     "output_type": "stream",
     "text": [
      "Agent GetSportNewsKiosk created with model gpt-4.1-mini ...\r\n"
     ]
    }
   ],
   "source": [
    "string systemMessage = @\"\n",
    "    You provide information about Sport Events.\n",
    "    You focus on the question and don't provie any additional information.\n",
    "    Use the provided functions to help answer questions.\n",
    "\";\n",
    "\n",
    "PersistentAgent agent = await persistedAgentsClient.Administration.CreateAgentAsync(\n",
    "    model: foundryModelDeployment,\n",
    "    name: \"GetSportNewsKiosk\",\n",
    "    instructions: systemMessage,\n",
    "    tools: [\n",
    "        getSportEventWinnerTool,\n",
    "        getSportEventResultsTool,\n",
    "    ]\n",
    ");\n",
    "Console.WriteLine($\"Agent {agent.Name} created with model {foundryModelDeployment} ...\");"
   ]
  },
  {
   "cell_type": "markdown",
   "id": "da8ac5a5",
   "metadata": {},
   "source": [
    "## Step 6 - Create and Run Thread\n",
    "\n",
    "A `PersistentAgentThread` is created with the ***Who won the Super Sports Championship 2025? What were the results?*** initial user message.\n",
    "\n",
    "A `ThreadRun' object is created connectiong the created Thread with the previously defined agent."
   ]
  },
  {
   "cell_type": "code",
   "execution_count": 8,
   "metadata": {
    "language_info": {
     "name": "polyglot-notebook"
    },
    "polyglot_notebook": {
     "kernelName": "csharp"
    }
   },
   "outputs": [
    {
     "name": "stdout",
     "output_type": "stream",
     "text": [
      "Thread run run_kKtjj9cpAlCNJGTsi0UpHnhT created for agent GetSportNewsKiosk ...\r\n"
     ]
    }
   ],
   "source": [
    "PersistentAgentThread persistentAgentThread = persistedAgentsClient.Threads.CreateThread();\n",
    "\n",
    "persistedAgentsClient.Messages.CreateMessage(\n",
    "    persistentAgentThread.Id,\n",
    "    MessageRole.User,\n",
    "    \"Who won the Super Sport Event in 2025? What were the results?\"\n",
    ");\n",
    "\n",
    "ThreadRun threadRun = persistedAgentsClient.Runs.CreateRun(persistentAgentThread.Id, agent.Id);\n",
    "\n",
    "Console.WriteLine($\"Thread run {threadRun.Id} created for agent {agent.Name} ...\");\n"
   ]
  },
  {
   "cell_type": "markdown",
   "id": "f4417efb",
   "metadata": {},
   "source": [
    "## Step 7 - Local Function Calling\n",
    "\n",
    "On request of the LLM local functions are called and results are provided to the LLM."
   ]
  },
  {
   "cell_type": "code",
   "execution_count": 11,
   "id": "b0d30bf1",
   "metadata": {
    "language_info": {
     "name": "polyglot-notebook"
    },
    "polyglot_notebook": {
     "kernelName": "csharp"
    }
   },
   "outputs": [
    {
     "name": "stdout",
     "output_type": "stream",
     "text": [
      "Thread run 'run_kKtjj9cpAlCNJGTsi0UpHnhT' completed with status 'completed'...\r\n"
     ]
    }
   ],
   "source": [
    "using Azure;\n",
    "\n",
    "do\n",
    "{\n",
    "    await Task.Delay(500);\n",
    "\n",
    "    threadRun = persistedAgentsClient.Runs.GetRun(persistentAgentThread.Id, threadRun.Id);\n",
    "\n",
    "    if (\n",
    "        threadRun.Status == RunStatus.RequiresAction\n",
    "        &&\n",
    "        threadRun.RequiredAction is SubmitToolOutputsAction submitToolOutputsAction\n",
    "    )\n",
    "    {\n",
    "        List<ToolOutput> toolOutputs = new List<ToolOutput>();\n",
    "        foreach (RequiredToolCall toolCall in submitToolOutputsAction.ToolCalls)\n",
    "        {\n",
    "            ToolOutput? toolOutput = await CallInternalFunction(toolCall);\n",
    "            if (toolOutput != null)\n",
    "            {\n",
    "                toolOutputs.Add(toolOutput);\n",
    "            }\n",
    "        }\n",
    "        threadRun = persistedAgentsClient.Runs.SubmitToolOutputsToRun(threadRun, toolOutputs);\n",
    "    }\n",
    "}\n",
    "\n",
    "while (threadRun.Status == RunStatus.Queued\n",
    "    || threadRun.Status == RunStatus.InProgress\n",
    "    || threadRun.Status == RunStatus.RequiresAction);\n",
    "\n",
    "Console.WriteLine($\"Thread run '{threadRun.Id}' completed with status '{threadRun.Status}'...\");\n"
   ]
  },
  {
   "cell_type": "markdown",
   "id": "e1ae67c6",
   "metadata": {},
   "source": [
    "## Step 8 - Retrieve Thread Messages\n",
    "\n",
    "After finishing `ThreadRun` all thread messages are retrieved and shown."
   ]
  },
  {
   "cell_type": "code",
   "execution_count": 12,
   "metadata": {
    "language_info": {
     "name": "polyglot-notebook"
    },
    "polyglot_notebook": {
     "kernelName": "csharp"
    }
   },
   "outputs": [
    {
     "name": "stdout",
     "output_type": "stream",
     "text": [
      "Thread run run_kKtjj9cpAlCNJGTsi0UpHnhT completed ...\n",
      "\tuser: Who won the Super Sport Event in 2025? What were the results?\n",
      "\tassistant: The winner of the Super Sport Event in 2025 was the Flying Munich Dolphins. The results for the event were 35:10.\n"
     ]
    }
   ],
   "source": [
    "Pageable<PersistentThreadMessage> persistentThreadMessages = persistedAgentsClient.Messages.GetMessages(\n",
    "    threadId: persistentAgentThread.Id,\n",
    "    order: ListSortOrder.Ascending\n",
    ");\n",
    "\n",
    "Console.WriteLine($\"Thread run {threadRun.Id} completed ...\");\n",
    "foreach (PersistentThreadMessage persistentThreadMessage in persistentThreadMessages)\n",
    "{\n",
    "    foreach (MessageTextContent messageTextContent in persistentThreadMessage.ContentItems.OfType<MessageTextContent>())\n",
    "    {\n",
    "        Console.WriteLine($\"\\t{persistentThreadMessage.Role}: {messageTextContent.Text}\");\n",
    "    }\n",
    "}"
   ]
  },
  {
   "cell_type": "markdown",
   "id": "7fe60011",
   "metadata": {},
   "source": [
    "## Step 8 - Housekeeping\n",
    "\n",
    "Thread and agent are removed."
   ]
  },
  {
   "cell_type": "code",
   "execution_count": 13,
   "metadata": {
    "language_info": {
     "name": "polyglot-notebook"
    },
    "polyglot_notebook": {
     "kernelName": "csharp"
    }
   },
   "outputs": [
    {
     "name": "stdout",
     "output_type": "stream",
     "text": [
      "Thread and agent deleted ...\r\n"
     ]
    }
   ],
   "source": [
    "persistedAgentsClient.Threads.DeleteThread(threadId: persistentAgentThread.Id);\n",
    "persistedAgentsClient.Administration.DeleteAgent(agentId: agent.Id);\n",
    "\n",
    "Console.WriteLine(\"Thread and agent deleted ...\");\n"
   ]
  }
 ],
 "metadata": {
  "kernelspec": {
   "display_name": ".NET (C#)",
   "language": "C#",
   "name": ".net-csharp"
  },
  "polyglot_notebook": {
   "kernelInfo": {
    "defaultKernelName": "csharp",
    "items": [
     {
      "aliases": [],
      "name": "csharp"
     }
    ]
   }
  }
 },
 "nbformat": 4,
 "nbformat_minor": 5
}
